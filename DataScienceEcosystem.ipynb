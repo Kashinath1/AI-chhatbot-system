{
  "nbformat": 4,
  "nbformat_minor": 0,
  "metadata": {
    "colab": {
      "provenance": [],
      "authorship_tag": "ABX9TyOVYjrKqSgVTRWLyjhb66KI",
      "include_colab_link": true
    },
    "kernelspec": {
      "name": "python3",
      "display_name": "Python 3"
    },
    "language_info": {
      "name": "python"
    }
  },
  "cells": [
    {
      "cell_type": "markdown",
      "metadata": {
        "id": "view-in-github",
        "colab_type": "text"
      },
      "source": [
        "<a href=\"https://colab.research.google.com/github/kashi25/AI-chhatbot-system/blob/cluster_keywords/DataScienceEcosystem.ipynb\" target=\"_parent\"><img src=\"https://colab.research.google.com/assets/colab-badge.svg\" alt=\"Open In Colab\"/></a>"
      ]
    },
    {
      "cell_type": "markdown",
      "source": [
        "# Data Science Tools and Ecosystem\n",
        "\n",
        "In this notebook, Data Science Tools and Ecosystem are summarized.\n",
        "\n"
      ],
      "metadata": {
        "id": "AdEPcMvgs3vz"
      }
    },
    {
      "cell_type": "markdown",
      "source": [
        "# Some of the popular languages that Data Scientists use are:\n",
        "\n",
        "1. **Python**\n",
        "2. **R**\n",
        "3. **SQL**\n",
        "4. **Julia**\n",
        "5. **Scala**\n"
      ],
      "metadata": {
        "id": "-IcEG1v-upiT"
      }
    },
    {
      "cell_type": "code",
      "source": [],
      "metadata": {
        "id": "qq9oUDSOrpiW"
      },
      "execution_count": null,
      "outputs": []
    },
    {
      "cell_type": "markdown",
      "source": [
        "# Some of the commonly used libraries used by Data Scientists include:\n",
        "\n",
        "1. **NumPy**: A powerful library for numerical operations in Python.\n",
        "2. **Pandas**: A data manipulation and analysis library for Python.\n",
        "3. **Matplotlib**: A 2D plotting library for creating visualizations in Python.\n",
        "4. **Scikit-learn**: A machine learning library for Python providing simple and efficient tools for data analysis and modeling.\n"
      ],
      "metadata": {
        "id": "vbw1X8RPvWFO"
      }
    },
    {
      "cell_type": "code",
      "source": [],
      "metadata": {
        "id": "tqVzq9JFwHXp"
      },
      "execution_count": null,
      "outputs": []
    },
    {
      "cell_type": "markdown",
      "source": [
        "# Arithmetic Expression Examples\n",
        "\n",
        "### Below are a few examples of evaluating arithmetic expressions in Python:\n",
        "\n",
        "1. Addition:\n",
        "    ```python\n",
        "    result = 5 + 3\n",
        "    print(result)\n",
        "    ```\n",
        "\n",
        "2. Subtraction:\n",
        "    ```python\n",
        "    result = 10 - 4\n",
        "    print(result)\n",
        "    ```\n",
        "\n",
        "3. Multiplication:\n",
        "    ```python\n",
        "    result = 6 * 7\n",
        "    print(result)\n",
        "    ```\n",
        "\n",
        "4. Division:\n",
        "    ```python\n",
        "    result = 20 / 4\n",
        "    print(result)\n",
        "    ```\n",
        "\n",
        "Feel free to modify and run these examples to understand how arithmetic expressions work in Python.\n"
      ],
      "metadata": {
        "id": "Z1gJaiTowKZX"
      }
    },
    {
      "cell_type": "code",
      "source": [
        "# This is a simple arithmetic expression to multiply then add integers.\n",
        "result = (3 * 4) + 5\n",
        "print(result)\n"
      ],
      "metadata": {
        "colab": {
          "base_uri": "https://localhost:8080/"
        },
        "id": "27Z2tmAtwLCF",
        "outputId": "b6e02d6e-823c-4224-c2d7-07109e5c21c9"
      },
      "execution_count": 6,
      "outputs": [
        {
          "output_type": "stream",
          "name": "stdout",
          "text": [
            "17\n"
          ]
        }
      ]
    },
    {
      "cell_type": "code",
      "source": [],
      "metadata": {
        "id": "z0FzrqwBw-Rf"
      },
      "execution_count": null,
      "outputs": []
    },
    {
      "cell_type": "markdown",
      "source": [
        "# This is a simple arithmetic expression to multiply then add integers.\n",
        "result = (3 * 4) + 5\n",
        "print(result)\n"
      ],
      "metadata": {
        "id": "l9bBxx0AxAVV"
      }
    },
    {
      "cell_type": "code",
      "source": [
        "# This will convert 200 minutes to hours by dividing by 60.\n",
        "minutes = 200\n",
        "hours = minutes / 60\n",
        "print(hours)\n"
      ],
      "metadata": {
        "colab": {
          "base_uri": "https://localhost:8080/"
        },
        "id": "AHxd3-eYxA72",
        "outputId": "04aa5816-1ca2-4224-ded6-6675548c4dab"
      },
      "execution_count": 7,
      "outputs": [
        {
          "output_type": "stream",
          "name": "stdout",
          "text": [
            "3.3333333333333335\n"
          ]
        }
      ]
    },
    {
      "cell_type": "code",
      "source": [],
      "metadata": {
        "id": "ejle2WjhxhgX"
      },
      "execution_count": null,
      "outputs": []
    },
    {
      "cell_type": "markdown",
      "source": [
        "# Objectives:\n",
        "\n",
        "- **List popular languages for Data Science**\n",
        "- **Introduce commonly used libraries in Data Science**\n",
        "- **Explore examples of evaluating arithmetic expressions in Python**\n",
        "- **Demonstrate converting minutes to hours in Python**\n",
        "- **Summarize key takeaways from the course**\n"
      ],
      "metadata": {
        "id": "0SftNPF_x86V"
      }
    },
    {
      "cell_type": "code",
      "source": [],
      "metadata": {
        "id": "xFWUlPwZx9jT"
      },
      "execution_count": null,
      "outputs": []
    },
    {
      "cell_type": "markdown",
      "source": [
        "## Author kashi\n",
        "\n",
        "Code by Kashi Bhattarai\n"
      ],
      "metadata": {
        "id": "Cmlg-TgOyhjU"
      }
    },
    {
      "cell_type": "code",
      "source": [],
      "metadata": {
        "id": "xu-UmDQWyngM"
      },
      "execution_count": null,
      "outputs": []
    }
  ]
}